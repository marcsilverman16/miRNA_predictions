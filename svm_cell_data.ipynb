{
 "cells": [
  {
   "cell_type": "markdown",
   "metadata": {},
   "source": [
    "### 1. Lets first download the data"
   ]
  },
  {
   "cell_type": "markdown",
   "metadata": {},
   "source": []
  },
  {
   "cell_type": "code",
   "execution_count": 84,
   "metadata": {},
   "outputs": [],
   "source": [
    "import pandas as pd\n",
    "import numpy as np\n",
    "import os"
   ]
  },
  {
   "cell_type": "code",
   "execution_count": 85,
   "metadata": {},
   "outputs": [],
   "source": [
    "cel_data = pd.read_csv(\"raw_data/cel.csv\")"
   ]
  },
  {
   "cell_type": "markdown",
   "metadata": {},
   "source": [
    "### 2 We are going to start out by trying the SVM on just one species"
   ]
  },
  {
   "cell_type": "code",
   "execution_count": 86,
   "metadata": {},
   "outputs": [
    {
     "name": "stdout",
     "output_type": "stream",
     "text": [
      "num caenorhabditis elegans in raw set 1737349\n",
      "num caenorhabditis elegans after dropping N/A 1737349\n"
     ]
    }
   ],
   "source": [
    "num_rows = cel_data.shape[0]\n",
    "print(\"num caenorhabditis elegans in raw set\", num_rows)\n",
    "cel_data = cel_data.dropna()\n",
    "print(\"num caenorhabditis elegans after dropping N/A\", cel_data.shape[0])\n"
   ]
  },
  {
   "cell_type": "code",
   "execution_count": 39,
   "metadata": {},
   "outputs": [
    {
     "data": {
      "text/plain": [
       "Index(['sequence_names', 'nt_proportion0', 'nt_proportion1', 'nt_proportion2',\n",
       "       'nt_proportion3', 'dinucleotide_proportion0',\n",
       "       'dinucleotide_proportion1', 'dinucleotide_proportion2',\n",
       "       'dinucleotide_proportion3', 'dinucleotide_proportion4',\n",
       "       'dinucleotide_proportion5', 'dinucleotide_proportion6',\n",
       "       'dinucleotide_proportion7', 'dinucleotide_proportion8',\n",
       "       'dinucleotide_proportion9', 'dinucleotide_proportion10',\n",
       "       'dinucleotide_proportion11', 'dinucleotide_proportion12',\n",
       "       'dinucleotide_proportion13', 'dinucleotide_proportion14',\n",
       "       'dinucleotide_proportion15', 'gc_content', 'gc_ratio',\n",
       "       'sequence_length', 'stem_number', 'avg_bp_stem', 'longest_stem_length',\n",
       "       'terminal_loop_length', 'bp_number', 'dP', 'bp_proportion0',\n",
       "       'bp_proportion1', 'bp_proportion2', 'bp_proportion_stem0',\n",
       "       'bp_proportion_stem1', 'bp_proportion_stem2', 'triplets0', 'triplets1',\n",
       "       'triplets2', 'triplets3', 'triplets4', 'triplets5', 'triplets6',\n",
       "       'triplets7', 'triplets8', 'triplets9', 'triplets10', 'triplets11',\n",
       "       'triplets12', 'triplets13', 'triplets14', 'triplets15', 'triplets16',\n",
       "       'triplets17', 'triplets18', 'triplets19', 'triplets20', 'triplets21',\n",
       "       'triplets22', 'triplets23', 'triplets24', 'triplets25', 'triplets26',\n",
       "       'triplets27', 'triplets28', 'triplets29', 'triplets30', 'triplets31',\n",
       "       'mfe', 'efe', 'ensemble_frequency', 'diversity', 'mfe_efe_difference',\n",
       "       'dQ', 'dG', 'mfei1', 'mfei2', 'mfei4', 'CLASS'],\n",
       "      dtype='object')"
      ]
     },
     "execution_count": 39,
     "metadata": {},
     "output_type": "execute_result"
    }
   ],
   "source": [
    "cel_data.columns"
   ]
  },
  {
   "cell_type": "markdown",
   "metadata": {},
   "source": [
    "#### Chosen features are based on the feature imporance RFC ran in miRNA_prediction_model"
   ]
  },
  {
   "cell_type": "code",
   "execution_count": 87,
   "metadata": {},
   "outputs": [],
   "source": [
    "cel_y = cel_data['CLASS']\n",
    "cel_x = cel_data[['mfe', 'efe', 'dG', 'triplets0', 'mfei4', 'dP', 'bp_number']]"
   ]
  },
  {
   "cell_type": "code",
   "execution_count": 88,
   "metadata": {},
   "outputs": [
    {
     "name": "stdout",
     "output_type": "stream",
     "text": [
      "Example testing:  1\n",
      "Examples features:  mfe         -68.200000\n",
      "efe         -71.830000\n",
      "dG           -0.483688\n",
      "triplets0     0.138462\n",
      "mfei4        -1.196491\n",
      "dP            0.404255\n",
      "bp_number    57.000000\n",
      "Name: 0, dtype: float64\n"
     ]
    }
   ],
   "source": [
    "print(\"Example testing: \", cel_y[0])\n",
    "print(\"Examples features: \", cel_x.iloc[0])\n",
    "#convert our data to numpy\n",
    "cel_test_np = cel_y.values\n",
    "cel_data_np = cel_x.values\n"
   ]
  },
  {
   "cell_type": "markdown",
   "metadata": {},
   "source": [
    "### Split into train, test and validation"
   ]
  },
  {
   "cell_type": "code",
   "execution_count": 89,
   "metadata": {},
   "outputs": [],
   "source": [
    "from sklearn.model_selection import train_test_split\n"
   ]
  },
  {
   "cell_type": "markdown",
   "metadata": {},
   "source": [
    "### This will split code into 60-20-20 split for training, validation, and testing"
   ]
  },
  {
   "cell_type": "code",
   "execution_count": 90,
   "metadata": {},
   "outputs": [
    {
     "name": "stdout",
     "output_type": "stream",
     "text": [
      "347470\n"
     ]
    }
   ],
   "source": [
    "# Splitting data into 80% train and 20% test\n",
    "train_x, test_x, train_y, test_y = train_test_split(cel_x, cel_y, test_size=0.2, random_state=15)\n",
    "\n",
    "# Further splitting the remaining 80% into 75% train and 25% validation\n",
    "train_x, val_x, train_y, val_y = train_test_split(train_x, train_y, test_size=0.25, random_state=15)\n",
    "print(len(val_y))"
   ]
  },
  {
   "cell_type": "code",
   "execution_count": 91,
   "metadata": {},
   "outputs": [],
   "source": [
    "import torch\n",
    "\n",
    "train_x = torch.tensor(train_x.values, dtype=torch.float32)\n",
    "train_y = torch.tensor(train_y.values, dtype=torch.float32)\n",
    "val_x = torch.tensor(val_x.values, dtype=torch.float32)\n",
    "val_y = torch.tensor(val_y.values, dtype=torch.float32)\n",
    "test_x = torch.tensor(test_x.values, dtype=torch.float32)\n",
    "test_y = torch.tensor(test_y.values, dtype=torch.float32)\n"
   ]
  },
  {
   "cell_type": "markdown",
   "metadata": {},
   "source": []
  },
  {
   "cell_type": "markdown",
   "metadata": {},
   "source": [
    "## Lets make the SVM non-linear model now!"
   ]
  },
  {
   "cell_type": "code",
   "execution_count": 92,
   "metadata": {},
   "outputs": [],
   "source": [
    "import torch.nn as nn\n",
    "import torch.optim as optim\n",
    "from sklearn.preprocessing import StandardScaler\n",
    "from sklearn.datasets import make_classification\n",
    "from sklearn.metrics import f1_score"
   ]
  },
  {
   "cell_type": "code",
   "execution_count": 93,
   "metadata": {},
   "outputs": [],
   "source": [
    "train_dataset = torch.utils.data.TensorDataset(train_x, train_y)\n",
    "val_dataset = torch.utils.data.TensorDataset(val_x, val_y)\n",
    "test_dataset = torch.utils.data.TensorDataset(test_x, test_y)\n",
    "\n",
    "train_loader = torch.utils.data.DataLoader(train_dataset, batch_size=64, shuffle=True)\n",
    "val_loader = torch.utils.data.DataLoader(val_dataset, batch_size=64)\n",
    "test_loader = torch.utils.data.DataLoader(test_dataset, batch_size=64)"
   ]
  },
  {
   "cell_type": "markdown",
   "metadata": {},
   "source": [
    "### Create the class"
   ]
  },
  {
   "cell_type": "code",
   "execution_count": 95,
   "metadata": {},
   "outputs": [],
   "source": [
    "import torch\n",
    "import torch.nn as nn\n",
    "import numpy as np\n",
    "from sklearn.utils import resample\n",
    "\n",
    "class NonLinearSVM(nn.Module):\n",
    "    def __init__(self, input_size, hidden_size):\n",
    "        super(NonLinearSVM, self).__init__()\n",
    "        self.layer1 = nn.Linear(input_size, hidden_size)\n",
    "        self.relu = nn.ReLU()\n",
    "        self.layer2 = nn.Linear(hidden_size, 1)\n",
    "\n",
    "    def forward(self, x):\n",
    "        out = self.layer1(x)\n",
    "        out = self.relu(out)\n",
    "        out = self.layer2(out)\n",
    "        return out"
   ]
  },
  {
   "cell_type": "markdown",
   "metadata": {},
   "source": [
    "### deal with imbalances"
   ]
  },
  {
   "cell_type": "code",
   "execution_count": 96,
   "metadata": {},
   "outputs": [],
   "source": [
    "pos_indices = np.where(train_y.numpy() == 1)[0]\n",
    "neg_indices = np.where(train_y.numpy() == 0)[0]\n",
    "\n",
    "# Subsample negative indices to match the size of positive indices\n",
    "neg_subset_indices = resample(neg_indices, replace=False, n_samples=len(pos_indices), random_state=13)\n",
    "\n",
    "balanced_indices = np.concatenate([pos_indices, neg_subset_indices])\n",
    "\n",
    "# Create balanced dataset\n",
    "X_balanced = train_x[balanced_indices]\n",
    "y_balanced = train_y[balanced_indices]\n",
    "\n",
    "train_dataset = torch.utils.data.TensorDataset(X_balanced, y_balanced)\n",
    "train_loader = torch.utils.data.DataLoader(train_dataset, batch_size=64, shuffle=True)"
   ]
  },
  {
   "cell_type": "markdown",
   "metadata": {},
   "source": [
    "### Hyper parameters"
   ]
  },
  {
   "cell_type": "code",
   "execution_count": 98,
   "metadata": {},
   "outputs": [],
   "source": [
    "input_size = X_balanced.shape[1]\n",
    "hidden_size = 64\n",
    "learning_rate = 0.001\n",
    "num_epochs = 300"
   ]
  },
  {
   "cell_type": "markdown",
   "metadata": {},
   "source": [
    "### Model"
   ]
  },
  {
   "cell_type": "code",
   "execution_count": 102,
   "metadata": {},
   "outputs": [
    {
     "name": "stdout",
     "output_type": "stream",
     "text": [
      "Epoch 1 loss: 2.7830456376075743\n",
      "Epoch 2 loss: 0.6749761462211609\n",
      "Epoch 3 loss: 0.6229828953742981\n",
      "Epoch 4 loss: 0.5749983072280884\n",
      "Epoch 5 loss: 0.5684597492218018\n",
      "Epoch 6 loss: 0.5814041793346405\n",
      "Epoch 7 loss: 0.5286078810691833\n",
      "Epoch 8 loss: 0.48702306151390073\n",
      "Epoch 9 loss: 0.4820590138435364\n",
      "Epoch 10 loss: 0.4977011322975159\n",
      "Epoch 11 loss: 0.4608941853046417\n",
      "Epoch 12 loss: 0.4381508886814117\n",
      "Epoch 13 loss: 0.4442016243934631\n",
      "Epoch 14 loss: 0.4391769230365753\n",
      "Epoch 15 loss: 0.4369642436504364\n",
      "Epoch 16 loss: 0.43093172907829286\n",
      "Epoch 17 loss: 0.41558473110198973\n",
      "Epoch 18 loss: 0.4253853976726532\n",
      "Epoch 19 loss: 0.41229933500289917\n",
      "Epoch 20 loss: 0.41416353583335874\n",
      "Epoch 21 loss: 0.4106842875480652\n",
      "Epoch 22 loss: 0.4301414370536804\n",
      "Epoch 23 loss: 0.4293879806995392\n",
      "Epoch 24 loss: 0.4245492219924927\n",
      "Epoch 25 loss: 0.4083716630935669\n",
      "Epoch 26 loss: 0.40149763226509094\n",
      "Epoch 27 loss: 0.40155686140060426\n",
      "Epoch 28 loss: 0.3993812322616577\n",
      "Epoch 29 loss: 0.40815907120704653\n",
      "Epoch 30 loss: 0.40807021856307985\n",
      "Epoch 31 loss: 0.39168007373809816\n",
      "Epoch 32 loss: 0.39086918234825135\n",
      "Epoch 33 loss: 0.41928860545158386\n",
      "Epoch 34 loss: 0.41376076340675355\n",
      "Epoch 35 loss: 0.38207306861877444\n",
      "Epoch 36 loss: 0.393268883228302\n",
      "Epoch 37 loss: 0.4306872487068176\n",
      "Epoch 38 loss: 0.3813485085964203\n",
      "Epoch 39 loss: 0.3833749949932098\n",
      "Epoch 40 loss: 0.37559114396572113\n",
      "Epoch 41 loss: 0.40342241525650024\n",
      "Epoch 42 loss: 0.399293053150177\n",
      "Epoch 43 loss: 0.37739975452423097\n",
      "Epoch 44 loss: 0.3879239559173584\n",
      "Epoch 45 loss: 0.38695589900016786\n",
      "Epoch 46 loss: 0.36983353793621065\n",
      "Epoch 47 loss: 0.3806365609169006\n",
      "Epoch 48 loss: 0.443622761964798\n",
      "Epoch 49 loss: 0.4017964780330658\n",
      "Epoch 50 loss: 0.37504530549049375\n",
      "Epoch 51 loss: 0.37371539175510404\n",
      "Epoch 52 loss: 0.3882852435112\n",
      "Epoch 53 loss: 0.3970108270645142\n",
      "Epoch 54 loss: 0.3925182282924652\n",
      "Epoch 55 loss: 0.39183967411518095\n",
      "Epoch 56 loss: 0.382832270860672\n",
      "Epoch 57 loss: 0.4113514840602875\n",
      "Epoch 58 loss: 0.391790372133255\n",
      "Epoch 59 loss: 0.3922852218151093\n",
      "Epoch 60 loss: 0.3763026297092438\n",
      "Epoch 61 loss: 0.40449200868606566\n",
      "Epoch 62 loss: 0.38834760189056394\n",
      "Epoch 63 loss: 0.39836069345474245\n",
      "Epoch 64 loss: 0.3820429801940918\n",
      "Epoch 65 loss: 0.39704522490501404\n",
      "Epoch 66 loss: 0.39659414887428285\n",
      "Epoch 67 loss: 0.3679321825504303\n",
      "Epoch 68 loss: 0.39651569724082947\n",
      "Epoch 69 loss: 0.38951924443244934\n",
      "Epoch 70 loss: 0.3728534638881683\n",
      "Epoch 71 loss: 0.3710402727127075\n",
      "Epoch 72 loss: 0.3742601931095123\n",
      "Epoch 73 loss: 0.40247854590415955\n",
      "Epoch 74 loss: 0.36289469003677366\n",
      "Epoch 75 loss: 0.3710982620716095\n",
      "Epoch 76 loss: 0.4144936978816986\n",
      "Epoch 77 loss: 0.3684405893087387\n",
      "Epoch 78 loss: 0.38672016859054564\n",
      "Epoch 79 loss: 0.3799667775630951\n",
      "Epoch 80 loss: 0.3603569447994232\n",
      "Epoch 81 loss: 0.3805944979190826\n",
      "Epoch 82 loss: 0.4091885805130005\n",
      "Epoch 83 loss: 0.38980695605278015\n",
      "Epoch 84 loss: 0.43431068658828736\n",
      "Epoch 85 loss: 0.3876090943813324\n",
      "Epoch 86 loss: 0.38009450435638426\n",
      "Epoch 87 loss: 0.3821851313114166\n",
      "Epoch 88 loss: 0.3707644402980804\n",
      "Epoch 89 loss: 0.3839201688766479\n",
      "Epoch 90 loss: 0.4270227372646332\n",
      "Epoch 91 loss: 0.3937032401561737\n",
      "Epoch 92 loss: 0.3704787909984589\n",
      "Epoch 93 loss: 0.418546998500824\n",
      "Epoch 94 loss: 0.3795683979988098\n",
      "Epoch 95 loss: 0.39562023282051084\n",
      "Epoch 96 loss: 0.38124716877937315\n",
      "Epoch 97 loss: 0.3750781178474426\n",
      "Epoch 98 loss: 0.39845468997955324\n",
      "Epoch 99 loss: 0.41491456627845763\n",
      "Epoch 100 loss: 0.39708399772644043\n",
      "Epoch 101 loss: 0.40794870257377625\n",
      "Epoch 102 loss: 0.4181713223457336\n",
      "Epoch 103 loss: 0.4152982771396637\n",
      "Epoch 104 loss: 0.38910428881645204\n",
      "Epoch 105 loss: 0.38141639828681945\n",
      "Epoch 106 loss: 0.3903193473815918\n",
      "Epoch 107 loss: 0.3845801830291748\n",
      "Epoch 108 loss: 0.37226082682609557\n",
      "Epoch 109 loss: 0.3581462174654007\n",
      "Epoch 110 loss: 0.4209147095680237\n",
      "Epoch 111 loss: 0.37641409039497375\n",
      "Epoch 112 loss: 0.3697636842727661\n",
      "Epoch 113 loss: 0.37862842082977294\n",
      "Epoch 114 loss: 0.39022859930992126\n",
      "Epoch 115 loss: 0.38486825227737426\n",
      "Epoch 116 loss: 0.39234102368354795\n",
      "Epoch 117 loss: 0.4180067002773285\n",
      "Epoch 118 loss: 0.4540253520011902\n",
      "Epoch 119 loss: 0.3916516125202179\n",
      "Epoch 120 loss: 0.3639291971921921\n",
      "Epoch 121 loss: 0.383098840713501\n",
      "Epoch 122 loss: 0.40950324535369875\n",
      "Epoch 123 loss: 0.36526051461696624\n",
      "Epoch 124 loss: 0.3564606189727783\n",
      "Epoch 125 loss: 0.3902770936489105\n",
      "Epoch 126 loss: 0.3826195538043976\n",
      "Epoch 127 loss: 0.38888699412345884\n",
      "Epoch 128 loss: 0.36505545377731324\n",
      "Epoch 129 loss: 0.38505597710609435\n",
      "Epoch 130 loss: 0.3852805197238922\n",
      "Epoch 131 loss: 0.4123739242553711\n",
      "Epoch 132 loss: 0.42412633895874025\n",
      "Epoch 133 loss: 0.4179727852344513\n",
      "Epoch 134 loss: 0.3696607291698456\n",
      "Epoch 135 loss: 0.39798720479011535\n",
      "Epoch 136 loss: 0.3785528540611267\n",
      "Epoch 137 loss: 0.39440177083015443\n",
      "Epoch 138 loss: 0.37499748468399047\n",
      "Epoch 139 loss: 0.376847630739212\n",
      "Epoch 140 loss: 0.37106040120124817\n",
      "Epoch 141 loss: 0.42146040201187135\n",
      "Epoch 142 loss: 0.38504610657691957\n",
      "Epoch 143 loss: 0.38113083243370055\n",
      "Epoch 144 loss: 0.36356396675109864\n",
      "Epoch 145 loss: 0.3767804801464081\n",
      "Epoch 146 loss: 0.36943883299827573\n",
      "Epoch 147 loss: 0.37798005938529966\n",
      "Epoch 148 loss: 0.3779345452785492\n",
      "Epoch 149 loss: 0.38583083152770997\n",
      "Epoch 150 loss: 0.34899090230464935\n",
      "Epoch 151 loss: 0.3543692469596863\n",
      "Epoch 152 loss: 0.3827242314815521\n",
      "Epoch 153 loss: 0.4041123270988464\n",
      "Epoch 154 loss: 0.3583068400621414\n",
      "Epoch 155 loss: 0.370424348115921\n",
      "Epoch 156 loss: 0.3665034234523773\n",
      "Epoch 157 loss: 0.3649799942970276\n",
      "Epoch 158 loss: 0.38049710988998414\n",
      "Epoch 159 loss: 0.386875581741333\n",
      "Epoch 160 loss: 0.37176755666732786\n",
      "Epoch 161 loss: 0.4072444498538971\n",
      "Epoch 162 loss: 0.38503525853157045\n",
      "Epoch 163 loss: 0.40201516151428224\n",
      "Epoch 164 loss: 0.37228747010231017\n",
      "Epoch 165 loss: 0.3826808393001556\n",
      "Epoch 166 loss: 0.39711626172065734\n",
      "Epoch 167 loss: 0.38623714447021484\n",
      "Epoch 168 loss: 0.41110185980796815\n",
      "Epoch 169 loss: 0.38423061966896055\n",
      "Epoch 170 loss: 0.39833823442459104\n",
      "Epoch 171 loss: 0.3921371877193451\n",
      "Epoch 172 loss: 0.3641545087099075\n",
      "Epoch 173 loss: 0.3683127462863922\n",
      "Epoch 174 loss: 0.3790066003799438\n",
      "Epoch 175 loss: 0.40217873454093933\n",
      "Epoch 176 loss: 0.4113712251186371\n",
      "Epoch 177 loss: 0.4122943222522736\n",
      "Epoch 178 loss: 0.3805198669433594\n",
      "Epoch 179 loss: 0.3810024619102478\n",
      "Epoch 180 loss: 0.3707358777523041\n",
      "Epoch 181 loss: 0.3856670379638672\n",
      "Epoch 182 loss: 0.3711388289928436\n",
      "Epoch 183 loss: 0.3857940971851349\n",
      "Epoch 184 loss: 0.40161405205726625\n",
      "Epoch 185 loss: 0.3774170696735382\n",
      "Epoch 186 loss: 0.3899821102619171\n",
      "Epoch 187 loss: 0.35823283195495603\n",
      "Epoch 188 loss: 0.3636386841535568\n",
      "Epoch 189 loss: 0.40419343709945676\n",
      "Epoch 190 loss: 0.3780486464500427\n",
      "Epoch 191 loss: 0.3927672505378723\n",
      "Epoch 192 loss: 0.3951093316078186\n",
      "Epoch 193 loss: 0.3682214230298996\n",
      "Epoch 194 loss: 0.3955499827861786\n",
      "Epoch 195 loss: 0.3889988899230957\n",
      "Epoch 196 loss: 0.39113386273384093\n",
      "Epoch 197 loss: 0.36163835525512694\n",
      "Epoch 198 loss: 0.4229301929473877\n",
      "Epoch 199 loss: 0.3765435218811035\n",
      "Epoch 200 loss: 0.3826108455657959\n",
      "Epoch 201 loss: 0.38251773715019227\n",
      "Epoch 202 loss: 0.3745222747325897\n",
      "Epoch 203 loss: 0.3662731409072876\n",
      "Epoch 204 loss: 0.3931769788265228\n",
      "Epoch 205 loss: 0.3935954988002777\n",
      "Epoch 206 loss: 0.41154019832611083\n",
      "Epoch 207 loss: 0.3945445895195007\n",
      "Epoch 208 loss: 0.3640284538269043\n",
      "Epoch 209 loss: 0.38264849185943606\n",
      "Epoch 210 loss: 0.4047660052776337\n",
      "Epoch 211 loss: 0.35057825446128843\n",
      "Epoch 212 loss: 0.3563737362623215\n",
      "Epoch 213 loss: 0.37917757630348203\n",
      "Epoch 214 loss: 0.3865210711956024\n",
      "Epoch 215 loss: 0.3813876807689667\n",
      "Epoch 216 loss: 0.3703752636909485\n",
      "Epoch 217 loss: 0.40721445083618163\n",
      "Epoch 218 loss: 0.36347598731517794\n",
      "Epoch 219 loss: 0.3930193066596985\n",
      "Epoch 220 loss: 0.4062276124954224\n",
      "Epoch 221 loss: 0.3728886663913727\n",
      "Epoch 222 loss: 0.4115272700786591\n",
      "Epoch 223 loss: 0.3736184060573578\n",
      "Epoch 224 loss: 0.357550585269928\n",
      "Epoch 225 loss: 0.3784804344177246\n",
      "Epoch 226 loss: 0.3783665895462036\n",
      "Epoch 227 loss: 0.3875990152359009\n",
      "Epoch 228 loss: 0.3772305428981781\n",
      "Epoch 229 loss: 0.39369381666183473\n",
      "Epoch 230 loss: 0.3897611141204834\n",
      "Epoch 231 loss: 0.3692512810230255\n",
      "Epoch 232 loss: 0.40722782611846925\n",
      "Epoch 233 loss: 0.3635174810886383\n",
      "Epoch 234 loss: 0.3831734240055084\n",
      "Epoch 235 loss: 0.3906635046005249\n",
      "Epoch 236 loss: 0.40491861701011655\n",
      "Epoch 237 loss: 0.36765276789665224\n",
      "Epoch 238 loss: 0.3601606547832489\n",
      "Epoch 239 loss: 0.39096137285232546\n",
      "Epoch 240 loss: 0.37836686968803407\n",
      "Epoch 241 loss: 0.3556172728538513\n",
      "Epoch 242 loss: 0.36299615502357485\n",
      "Epoch 243 loss: 0.37637304067611693\n",
      "Epoch 244 loss: 0.40334429740905764\n",
      "Epoch 245 loss: 0.3736255049705505\n",
      "Epoch 246 loss: 0.38591952323913575\n",
      "Epoch 247 loss: 0.38411290049552915\n",
      "Epoch 248 loss: 0.4024690747261047\n",
      "Epoch 249 loss: 0.3907788276672363\n",
      "Epoch 250 loss: 0.3802986919879913\n",
      "Epoch 251 loss: 0.422398442029953\n",
      "Epoch 252 loss: 0.35240385234355925\n",
      "Epoch 253 loss: 0.39047559499740603\n",
      "Epoch 254 loss: 0.35074885487556456\n",
      "Epoch 255 loss: 0.3917028307914734\n",
      "Epoch 256 loss: 0.4249243140220642\n",
      "Epoch 257 loss: 0.4016519010066986\n",
      "Epoch 258 loss: 0.4174927294254303\n",
      "Epoch 259 loss: 0.37556812167167664\n",
      "Epoch 260 loss: 0.3753153204917908\n",
      "Epoch 261 loss: 0.35771247148513796\n",
      "Epoch 262 loss: 0.36357409358024595\n",
      "Epoch 263 loss: 0.3840238809585571\n",
      "Epoch 264 loss: 0.3840914905071259\n",
      "Epoch 265 loss: 0.37764762043952943\n",
      "Epoch 266 loss: 0.38508874773979185\n",
      "Epoch 267 loss: 0.38980492353439333\n",
      "Epoch 268 loss: 0.4024703443050385\n",
      "Epoch 269 loss: 0.37869346141815186\n",
      "Epoch 270 loss: 0.35926407277584077\n",
      "Epoch 271 loss: 0.4067839443683624\n",
      "Epoch 272 loss: 0.3561261147260666\n",
      "Epoch 273 loss: 0.405976265668869\n",
      "Epoch 274 loss: 0.3762054145336151\n",
      "Epoch 275 loss: 0.4187868177890778\n",
      "Epoch 276 loss: 0.38311992287635804\n",
      "Epoch 277 loss: 0.38227258920669555\n",
      "Epoch 278 loss: 0.3540921151638031\n",
      "Epoch 279 loss: 0.39796029329299926\n",
      "Epoch 280 loss: 0.3822717428207397\n",
      "Epoch 281 loss: 0.39911636114120486\n",
      "Epoch 282 loss: 0.41004166603088377\n",
      "Epoch 283 loss: 0.36873077154159545\n",
      "Epoch 284 loss: 0.35639802515506747\n",
      "Epoch 285 loss: 0.3721537232398987\n",
      "Epoch 286 loss: 0.4172807216644287\n",
      "Epoch 287 loss: 0.39643940329551697\n",
      "Epoch 288 loss: 0.37272037863731383\n",
      "Epoch 289 loss: 0.41156903505325315\n",
      "Epoch 290 loss: 0.3606752663850784\n",
      "Epoch 291 loss: 0.38509911894798277\n",
      "Epoch 292 loss: 0.37253340482711794\n",
      "Epoch 293 loss: 0.3790216982364655\n",
      "Epoch 294 loss: 0.35770573616027834\n",
      "Epoch 295 loss: 0.37977940440177915\n",
      "Epoch 296 loss: 0.3921209812164307\n",
      "Epoch 297 loss: 0.3708820104598999\n",
      "Epoch 298 loss: 0.3906214237213135\n",
      "Epoch 299 loss: 0.36572215557098386\n",
      "Epoch 300 loss: 0.4117585837841034\n",
      "Validation loss: 0.33883328108497746, Validation accuracy: 0.8549025815178288\n"
     ]
    }
   ],
   "source": [
    "model = NonLinearSVM(input_size, hidden_size)\n",
    "\n",
    "# Loss function and optimizer\n",
    "criterion = nn.BCEWithLogitsLoss()\n",
    "optimizer = torch.optim.SGD(model.parameters(), lr=learning_rate)\n",
    "\n",
    "# Training loop\n",
    "for epoch in range(num_epochs):\n",
    "    running_loss = 0.0\n",
    "    for inputs, labels in train_loader:\n",
    "        optimizer.zero_grad()\n",
    "        outputs = model(inputs)\n",
    "        loss = criterion(outputs, labels.unsqueeze(1))\n",
    "        loss.backward()\n",
    "        optimizer.step()\n",
    "        running_loss += loss.item()\n",
    "    print(f\"Epoch {epoch+1} loss: {running_loss / len(train_loader)}\")\n",
    "\n",
    "# Evaluation on validation set\n",
    "model.eval()\n",
    "val_loss = 0.0\n",
    "val_correct = 0\n",
    "with torch.no_grad():\n",
    "    for inputs, labels in val_loader:\n",
    "        outputs = model(inputs)\n",
    "        val_loss += criterion(outputs, labels.unsqueeze(1).float()).item()\n",
    "        predicted = (outputs > 0).squeeze()\n",
    "        val_correct += (predicted == labels).sum().item()\n",
    "val_accuracy = val_correct / len(val_dataset)\n",
    "print(f\"Validation loss: {val_loss / len(val_loader)}, Validation accuracy: {val_accuracy}\")\n"
   ]
  },
  {
   "cell_type": "markdown",
   "metadata": {},
   "source": [
    "### confusion matrix"
   ]
  },
  {
   "cell_type": "code",
   "execution_count": 103,
   "metadata": {},
   "outputs": [
    {
     "data": {
      "image/png": "[encoded data removed]",
      "text/plain": [
       "<Figure size 800x600 with 1 Axes>"
      ]
     },
     "metadata": {},
     "output_type": "display_data"
    }
   ],
   "source": [
    "from sklearn.metrics import confusion_matrix\n",
    "\n",
    "# Evaluate on validation set\n",
    "model.eval()\n",
    "predictions = []\n",
    "true_labels = []\n",
    "\n",
    "for data in val_loader:\n",
    "    inputs, labels = data\n",
    "    outputs = model(inputs)\n",
    "    predicted = (outputs > 0).squeeze().int()\n",
    "    predictions.extend(predicted.tolist())\n",
    "    true_labels.extend(labels.tolist())\n",
    "\n",
    "predictions = np.array(predictions)\n",
    "true_labels = np.array(true_labels)\n",
    "\n",
    "# Compute confusion matrix\n",
    "conf_matrix = confusion_matrix(true_labels, predictions)\n",
    "\n",
    "# Compute sum of true labels in each row (class)\n",
    "sum_true_labels = conf_matrix.sum(axis=1)\n",
    "\n",
    "# Normalize each row of the confusion matrix by the sum of true labels\n",
    "weighted_conf_matrix = conf_matrix / sum_true_labels[:, np.newaxis]\n",
    "\n",
    "# Plot weighted confusion matrix\n",
    "plt.figure(figsize=(8, 6))\n",
    "sns.set(font_scale=1.2)  # Adjust font size\n",
    "sns.heatmap(weighted_conf_matrix, annot=True, fmt='.2f', cmap='Blues', annot_kws={\"size\": 14}, cbar=False)\n",
    "plt.xlabel('Predicted Label')\n",
    "plt.ylabel('True Label')\n",
    "plt.title('Weighted Confusion Matrix')\n",
    "plt.show()\n",
    "\n",
    "\n"
   ]
  }
 ],
 "metadata": {
  "kernelspec": {
   "display_name": "base",
   "language": "python",
   "name": "python3"
  },
  "language_info": {
   "codemirror_mode": {
    "name": "ipython",
    "version": 3
   },
   "file_extension": ".py",
   "mimetype": "text/x-python",
   "name": "python",
   "nbconvert_exporter": "python",
   "pygments_lexer": "ipython3",
   "version": "3.12.3"
  }
 },
 "nbformat": 4,
 "nbformat_minor": 2
}
